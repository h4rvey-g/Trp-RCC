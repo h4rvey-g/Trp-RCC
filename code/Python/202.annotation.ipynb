{
 "cells": [
  {
   "cell_type": "code",
   "execution_count": 4,
   "metadata": {},
   "outputs": [],
   "source": [
    "import os\n",
    "import celltypist\n",
    "import scanpy\n",
    "import subprocess\n",
    "\n",
    "# 获取 Git 仓库的根目录\n",
    "git_root = subprocess.check_output([\"git\", \"rev-parse\", \"--show-toplevel\"]).strip().decode('utf-8')\n",
    "\n",
    "# 更改当前工作目录到 Git 仓库的根目录\n",
    "os.chdir(git_root)"
   ]
  },
  {
   "cell_type": "code",
   "execution_count": 8,
   "metadata": {},
   "outputs": [
    {
     "name": "stderr",
     "output_type": "stream",
     "text": [
      "🍳 Preparing data before training\n",
      "✂️ 10 non-expressed genes are filtered out\n",
      "🔬 Input data has 270855 cells and 19726 genes\n",
      "⚖️ Scaling input data\n",
      "🏋️ Training data using SGD logistic regression\n",
      "⚠️ Warning: it may take a long time to train this dataset with 270855 cells and 19726 genes, try to downsample cells and/or restrict genes to a subset (e.g., hvgs)\n",
      "🔎 Selecting features\n",
      "🧬 1836 features are selected\n",
      "🏋️ Starting the second round of training\n",
      "🏋️ Training data using logistic regression\n",
      "✅ Model training done!\n"
     ]
    }
   ],
   "source": [
    "# Read the reference data\n",
    "adata_reference = scanpy.read(\"data/201.load_sc/reference.h5ad\")\n",
    "\n",
    "scanpy.pp.normalize_total(adata_reference, target_sum=1e4)\n",
    "scanpy.pp.log1p(adata_reference)\n",
    "# Train the celltypist model\n",
    "rcc_model = celltypist.train(adata_reference, labels='broad_type', n_jobs=40, feature_selection=True)\n",
    "\n",
    "# Create the directory if it doesn't exist\n",
    "os.makedirs(\"data/202.annotation\", exist_ok=True)\n",
    "\n",
    "# Save the trained model\n",
    "rcc_model.write(\"data/202.annotation/rcc_model.pkl\")"
   ]
  },
  {
   "cell_type": "code",
   "execution_count": 11,
   "metadata": {},
   "outputs": [
    {
     "name": "stderr",
     "output_type": "stream",
     "text": [
      "🔬 Input data has 505629 cells and 44806 genes\n",
      "🔗 Matching reference genes in the model\n",
      "🧬 1836 features used for prediction\n",
      "⚖️ Scaling input data\n",
      "🖋️ Predicting labels\n",
      "✅ Prediction done!\n",
      "👀 Can not detect a neighborhood graph, will construct one before the over-clustering\n",
      "/home/vscode/.pyenv/versions/3.10.15/lib/python3.10/site-packages/tqdm/auto.py:21: TqdmWarning: IProgress not found. Please update jupyter and ipywidgets. See https://ipywidgets.readthedocs.io/en/stable/user_install.html\n",
      "  from .autonotebook import tqdm as notebook_tqdm\n",
      "⛓️ Over-clustering input data with resolution set to 30\n",
      "🗳️ Majority voting the predictions\n",
      "✅ Majority voting done!\n"
     ]
    }
   ],
   "source": [
    "adata_sc = scanpy.read(\"data/201.load_sc/sc_pre.h5ad\")\n",
    "scanpy.pp.normalize_total(adata_sc, target_sum=1e4)\n",
    "scanpy.pp.log1p(adata_sc)\n",
    "predictions = celltypist.annotate(\n",
    "    adata_sc, model=\"data/202.annotation/rcc_model.pkl\", majority_voting=True\n",
    ")"
   ]
  },
  {
   "cell_type": "code",
   "execution_count": 19,
   "metadata": {},
   "outputs": [],
   "source": [
    "predictions.predicted_labels.to_csv(\"data/202.annotation/predicted_labels.csv\", index=True, header=True)"
   ]
  },
  {
   "cell_type": "code",
   "execution_count": 17,
   "metadata": {},
   "outputs": [
    {
     "data": {
      "text/html": [
       "<div>\n",
       "<style scoped>\n",
       "    .dataframe tbody tr th:only-of-type {\n",
       "        vertical-align: middle;\n",
       "    }\n",
       "\n",
       "    .dataframe tbody tr th {\n",
       "        vertical-align: top;\n",
       "    }\n",
       "\n",
       "    .dataframe thead th {\n",
       "        text-align: right;\n",
       "    }\n",
       "</style>\n",
       "<table border=\"1\" class=\"dataframe\">\n",
       "  <thead>\n",
       "    <tr style=\"text-align: right;\">\n",
       "      <th></th>\n",
       "      <th>predicted_labels</th>\n",
       "      <th>over_clustering</th>\n",
       "      <th>majority_voting</th>\n",
       "    </tr>\n",
       "  </thead>\n",
       "  <tbody>\n",
       "    <tr>\n",
       "      <th>PD43824_5739STDY7958805_AAACGGGAGCTGTCTA-1</th>\n",
       "      <td>B-cell</td>\n",
       "      <td>76</td>\n",
       "      <td>B-cell</td>\n",
       "    </tr>\n",
       "    <tr>\n",
       "      <th>PD43824_5739STDY7958805_AACACGTGTAAACACA-1</th>\n",
       "      <td>B-cell</td>\n",
       "      <td>76</td>\n",
       "      <td>B-cell</td>\n",
       "    </tr>\n",
       "    <tr>\n",
       "      <th>PD43824_5739STDY7958805_AACCATGTCAGTCCCT-1</th>\n",
       "      <td>Plasma</td>\n",
       "      <td>192</td>\n",
       "      <td>Plasma</td>\n",
       "    </tr>\n",
       "    <tr>\n",
       "      <th>PD43824_5739STDY7958805_AAGACCTGTGCAGTAG-1</th>\n",
       "      <td>B-cell</td>\n",
       "      <td>357</td>\n",
       "      <td>B-cell</td>\n",
       "    </tr>\n",
       "    <tr>\n",
       "      <th>PD43824_5739STDY7958805_AAGGCAGCAAACAACA-1</th>\n",
       "      <td>B-cell</td>\n",
       "      <td>76</td>\n",
       "      <td>B-cell</td>\n",
       "    </tr>\n",
       "    <tr>\n",
       "      <th>...</th>\n",
       "      <td>...</td>\n",
       "      <td>...</td>\n",
       "      <td>...</td>\n",
       "    </tr>\n",
       "    <tr>\n",
       "      <th>GSM7028039_RCC5_TTTGTCACAAGGGTCA-1</th>\n",
       "      <td>RCC</td>\n",
       "      <td>36</td>\n",
       "      <td>RCC</td>\n",
       "    </tr>\n",
       "    <tr>\n",
       "      <th>GSM7028039_RCC5_TTTGTCAGTACAGCAG-1</th>\n",
       "      <td>RCC</td>\n",
       "      <td>256</td>\n",
       "      <td>RCC</td>\n",
       "    </tr>\n",
       "    <tr>\n",
       "      <th>GSM7028039_RCC5_TTTGTCAGTGCTTCTC-1</th>\n",
       "      <td>RCC</td>\n",
       "      <td>161</td>\n",
       "      <td>RCC</td>\n",
       "    </tr>\n",
       "    <tr>\n",
       "      <th>GSM7028039_RCC5_TTTGTCAGTTATCCGA-1</th>\n",
       "      <td>Myeloid</td>\n",
       "      <td>438</td>\n",
       "      <td>Myeloid</td>\n",
       "    </tr>\n",
       "    <tr>\n",
       "      <th>GSM7028039_RCC5_TTTGTCATCGTGGTCG-1</th>\n",
       "      <td>RCC</td>\n",
       "      <td>36</td>\n",
       "      <td>RCC</td>\n",
       "    </tr>\n",
       "  </tbody>\n",
       "</table>\n",
       "<p>505629 rows × 3 columns</p>\n",
       "</div>"
      ],
      "text/plain": [
       "                                           predicted_labels over_clustering  \\\n",
       "PD43824_5739STDY7958805_AAACGGGAGCTGTCTA-1           B-cell              76   \n",
       "PD43824_5739STDY7958805_AACACGTGTAAACACA-1           B-cell              76   \n",
       "PD43824_5739STDY7958805_AACCATGTCAGTCCCT-1           Plasma             192   \n",
       "PD43824_5739STDY7958805_AAGACCTGTGCAGTAG-1           B-cell             357   \n",
       "PD43824_5739STDY7958805_AAGGCAGCAAACAACA-1           B-cell              76   \n",
       "...                                                     ...             ...   \n",
       "GSM7028039_RCC5_TTTGTCACAAGGGTCA-1                      RCC              36   \n",
       "GSM7028039_RCC5_TTTGTCAGTACAGCAG-1                      RCC             256   \n",
       "GSM7028039_RCC5_TTTGTCAGTGCTTCTC-1                      RCC             161   \n",
       "GSM7028039_RCC5_TTTGTCAGTTATCCGA-1                  Myeloid             438   \n",
       "GSM7028039_RCC5_TTTGTCATCGTGGTCG-1                      RCC              36   \n",
       "\n",
       "                                           majority_voting  \n",
       "PD43824_5739STDY7958805_AAACGGGAGCTGTCTA-1          B-cell  \n",
       "PD43824_5739STDY7958805_AACACGTGTAAACACA-1          B-cell  \n",
       "PD43824_5739STDY7958805_AACCATGTCAGTCCCT-1          Plasma  \n",
       "PD43824_5739STDY7958805_AAGACCTGTGCAGTAG-1          B-cell  \n",
       "PD43824_5739STDY7958805_AAGGCAGCAAACAACA-1          B-cell  \n",
       "...                                                    ...  \n",
       "GSM7028039_RCC5_TTTGTCACAAGGGTCA-1                     RCC  \n",
       "GSM7028039_RCC5_TTTGTCAGTACAGCAG-1                     RCC  \n",
       "GSM7028039_RCC5_TTTGTCAGTGCTTCTC-1                     RCC  \n",
       "GSM7028039_RCC5_TTTGTCAGTTATCCGA-1                 Myeloid  \n",
       "GSM7028039_RCC5_TTTGTCATCGTGGTCG-1                     RCC  \n",
       "\n",
       "[505629 rows x 3 columns]"
      ]
     },
     "execution_count": 17,
     "metadata": {},
     "output_type": "execute_result"
    }
   ],
   "source": [
    "predictions.predicted_labels"
   ]
  }
 ],
 "metadata": {
  "kernelspec": {
   "display_name": "Python 3",
   "language": "python",
   "name": "python3"
  },
  "language_info": {
   "codemirror_mode": {
    "name": "ipython",
    "version": 3
   },
   "file_extension": ".py",
   "mimetype": "text/x-python",
   "name": "python",
   "nbconvert_exporter": "python",
   "pygments_lexer": "ipython3",
   "version": "3.10.15"
  }
 },
 "nbformat": 4,
 "nbformat_minor": 2
}
