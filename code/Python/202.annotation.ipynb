{
 "cells": [
  {
   "cell_type": "code",
   "execution_count": 2,
   "metadata": {},
   "outputs": [
    {
     "name": "stderr",
     "output_type": "stream",
     "text": [
      "/home/vscode/.pyenv/versions/3.10.15/lib/python3.10/site-packages/tqdm/auto.py:21: TqdmWarning: IProgress not found. Please update jupyter and ipywidgets. See https://ipywidgets.readthedocs.io/en/stable/user_install.html\n",
      "  from .autonotebook import tqdm as notebook_tqdm\n"
     ]
    }
   ],
   "source": [
    "import os\n",
    "import celltypist\n",
    "import scanpy\n",
    "import subprocess\n",
    "\n",
    "# 获取 Git 仓库的根目录\n",
    "git_root = subprocess.check_output([\"git\", \"rev-parse\", \"--show-toplevel\"]).strip().decode('utf-8')\n",
    "\n",
    "# 更改当前工作目录到 Git 仓库的根目录\n",
    "os.chdir(git_root)"
   ]
  },
  {
   "cell_type": "code",
   "execution_count": null,
   "metadata": {},
   "outputs": [
    {
     "name": "stderr",
     "output_type": "stream",
     "text": [
      "🍳 Preparing data before training\n",
      "✂️ 12 non-expressed genes are filtered out\n",
      "🔬 Input data has 256456 cells and 19724 genes\n",
      "⚖️ Scaling input data\n",
      "🏋️ Training data using SGD logistic regression\n",
      "⚠️ Warning: it may take a long time to train this dataset with 256456 cells and 19724 genes, try to downsample cells and/or restrict genes to a subset (e.g., hvgs)\n",
      "🔎 Selecting features\n",
      "🧬 1770 features are selected\n",
      "🏋️ Starting the second round of training\n",
      "🏋️ Training data using logistic regression\n"
     ]
    }
   ],
   "source": [
    "# Read the reference data\n",
    "adata_reference = scanpy.read(\"data/201.load_sc/reference.h5ad\")\n",
    "\n",
    "scanpy.pp.normalize_total(adata_reference, target_sum=1e4)\n",
    "scanpy.pp.log1p(adata_reference)\n",
    "# filter out broad_type == 'RCC' cells\n",
    "adata_reference = adata_reference[adata_reference.obs['broad_type'] != 'RCC', :]\n",
    "# Train the celltypist model\n",
    "rcc_model = celltypist.train(adata_reference, labels='broad_type', n_jobs=40, feature_selection=True)\n",
    "\n",
    "# Create the directory if it doesn't exist\n",
    "os.makedirs(\"data/202.annotation\", exist_ok=True)\n",
    "\n",
    "# Save the trained model\n",
    "rcc_model.write(\"data/202.annotation/rcc_model.pkl\")"
   ]
  },
  {
   "cell_type": "code",
   "execution_count": 3,
   "metadata": {},
   "outputs": [
    {
     "name": "stderr",
     "output_type": "stream",
     "text": [
      "🔬 Input data has 404408 cells and 44806 genes\n",
      "🔗 Matching reference genes in the model\n",
      "🧬 1770 features used for prediction\n",
      "⚖️ Scaling input data\n",
      "🖋️ Predicting labels\n",
      "✅ Prediction done!\n",
      "👀 Can not detect a neighborhood graph, will construct one before the over-clustering\n",
      "⛓️ Over-clustering input data with resolution set to 30\n",
      "🗳️ Majority voting the predictions\n",
      "✅ Majority voting done!\n"
     ]
    }
   ],
   "source": [
    "adata_sc = scanpy.read(\"data/201.load_sc/sc_pre.h5ad\")\n",
    "scanpy.pp.normalize_total(adata_sc, target_sum=1e4)\n",
    "scanpy.pp.log1p(adata_sc)\n",
    "predictions = celltypist.annotate(\n",
    "    adata_sc, model=\"data/202.annotation/rcc_model.pkl\", majority_voting=True\n",
    ")"
   ]
  },
  {
   "cell_type": "code",
   "execution_count": 5,
   "metadata": {},
   "outputs": [],
   "source": [
    "predictions.predicted_labels.to_csv(\"data/202.annotation/predicted_labels.csv\", index=True, header=True)"
   ]
  }
 ],
 "metadata": {
  "kernelspec": {
   "display_name": "Python 3",
   "language": "python",
   "name": "python3"
  },
  "language_info": {
   "codemirror_mode": {
    "name": "ipython",
    "version": 3
   },
   "file_extension": ".py",
   "mimetype": "text/x-python",
   "name": "python",
   "nbconvert_exporter": "python",
   "pygments_lexer": "ipython3",
   "version": "3.10.15"
  }
 },
 "nbformat": 4,
 "nbformat_minor": 2
}
