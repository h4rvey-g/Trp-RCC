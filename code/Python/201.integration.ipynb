{
 "cells": [
  {
   "cell_type": "code",
   "execution_count": 12,
   "metadata": {},
   "outputs": [],
   "source": [
    "import os\n",
    "import tempfile\n",
    "import anndata\n",
    "import scvi\n",
    "import subprocess\n",
    "import pandas as pd\n",
    "from scib_metrics.benchmark import Benchmarker\n",
    "\n",
    "# 获取 Git 仓库的根目录\n",
    "git_root = subprocess.check_output([\"git\", \"rev-parse\", \"--show-toplevel\"]).strip().decode('utf-8')\n",
    "\n",
    "# 更改当前工作目录到 Git 仓库的根目录\n",
    "os.chdir(git_root)"
   ]
  },
  {
   "cell_type": "code",
   "execution_count": null,
   "metadata": {},
   "outputs": [],
   "source": [
    "os.getcwd()\n",
    "adata = anndata.read_h5ad(\"data/201.load_sc/sc_pre.h5ad\")\n",
    "# 将adata的X矩阵复制到adata的layers[\"counts\"]中，并转换为CSR格式\n",
    "adata.layers[\"counts\"] = adata.X.copy().tocsr()\n",
    "\n",
    "# 运行setup_anndata，使用列\"dataset\"作为批次键\n",
    "scvi.model.SCVI.setup_anndata(adata, batch_key=\"batch\", layer=\"counts\")\n",
    "\n",
    "# 创建模型\n",
    "model = scvi.model.SCVI(adata, n_layers=2, n_latent=30, gene_likelihood=\"nb\")\n",
    "\n",
    "# 训练模型\n",
    "model.train(accelerator=\"cpu\")\n",
    "\n",
    "# 获取潜在表示\n",
    "latent = model.get_latent_representation()\n",
    "\n",
    "# 假设 latent 是一个 numpy.ndarray\n",
    "latent_df = pd.DataFrame(latent)\n",
    "\n",
    "# 将 DataFrame 保存为 TSV 文件\n",
    "latent_df.to_csv(\"data/201.load_sc/scvi_latent.tsv\", sep=\"\\t\", index=True, header=True)"
   ]
  }
 ],
 "metadata": {
  "kernelspec": {
   "display_name": "Python 3",
   "language": "python",
   "name": "python3"
  },
  "language_info": {
   "codemirror_mode": {
    "name": "ipython",
    "version": 3
   },
   "file_extension": ".py",
   "mimetype": "text/x-python",
   "name": "python",
   "nbconvert_exporter": "python",
   "pygments_lexer": "ipython3",
   "version": "3.10.15"
  }
 },
 "nbformat": 4,
 "nbformat_minor": 2
}
